{
  "nbformat": 4,
  "nbformat_minor": 0,
  "metadata": {
    "colab": {
      "name": "NumberPlateDetection.ipynb",
      "provenance": [],
      "collapsed_sections": []
    },
    "kernelspec": {
      "name": "python3",
      "display_name": "Python 3"
    },
    "language_info": {
      "name": "python"
    }
  },
  "cells": [
    {
      "cell_type": "code",
      "metadata": {
        "colab": {
          "base_uri": "https://localhost:8080/"
        },
        "id": "E0v41gXFcrJx",
        "outputId": "b886a7ea-1745-498a-c6fa-ff70cda46301"
      },
      "source": [
        "!sudo apt install tesseract-ocr --quiet\n",
        "!pip install pytesseract --quiet\n",
        "!pip install streamlit --quiet\n",
        "!pip install pyngrok==4.1.1 --quiet"
      ],
      "execution_count": null,
      "outputs": [
        {
          "output_type": "stream",
          "text": [
            "Reading package lists...\n",
            "Building dependency tree...\n",
            "Reading state information...\n",
            "tesseract-ocr is already the newest version (4.00~git2288-10f4998a-2).\n",
            "0 upgraded, 0 newly installed, 0 to remove and 40 not upgraded.\n"
          ],
          "name": "stdout"
        }
      ]
    },
    {
      "cell_type": "code",
      "metadata": {
        "id": "6cU-UCR_d-6n"
      },
      "source": [
        "from pyngrok import ngrok"
      ],
      "execution_count": null,
      "outputs": []
    },
    {
      "cell_type": "code",
      "metadata": {
        "colab": {
          "base_uri": "https://localhost:8080/"
        },
        "id": "LKi-52nj1kKi",
        "outputId": "e7d91037-7f4c-42bd-8406-5a670371920f"
      },
      "source": [
        "!wget https://raw.githubusercontent.com/opencv/opencv/master/data/haarcascades/haarcascade_russian_plate_number.xml"
      ],
      "execution_count": null,
      "outputs": [
        {
          "output_type": "stream",
          "text": [
            "--2021-07-29 18:31:47--  https://raw.githubusercontent.com/opencv/opencv/master/data/haarcascades/haarcascade_russian_plate_number.xml\n",
            "Resolving raw.githubusercontent.com (raw.githubusercontent.com)... 185.199.108.133, 185.199.109.133, 185.199.110.133, ...\n",
            "Connecting to raw.githubusercontent.com (raw.githubusercontent.com)|185.199.108.133|:443... connected.\n",
            "HTTP request sent, awaiting response... 200 OK\n",
            "Length: 75482 (74K) [text/plain]\n",
            "Saving to: ‘haarcascade_russian_plate_number.xml.5’\n",
            "\n",
            "\r          haarcasca   0%[                    ]       0  --.-KB/s               \rhaarcascade_russian 100%[===================>]  73.71K  --.-KB/s    in 0.01s   \n",
            "\n",
            "2021-07-29 18:31:47 (5.52 MB/s) - ‘haarcascade_russian_plate_number.xml.5’ saved [75482/75482]\n",
            "\n"
          ],
          "name": "stdout"
        }
      ]
    },
    {
      "cell_type": "code",
      "metadata": {
        "colab": {
          "base_uri": "https://localhost:8080/"
        },
        "id": "LlftGoTsdU14",
        "outputId": "6a3805c5-653b-4e99-a1fd-8ae14eba7fe9"
      },
      "source": [
        "%%writefile app.py\n",
        "\n",
        "\"\"\"cv2 and streamlit don't work together. Istead, PIL is used.\n",
        "And we require one of them to read our image so as to work over it. The upoaded image 'i' cannot be used directly.\n",
        "\"\"\"\n",
        "import pytesseract\n",
        "import streamlit as st\n",
        "from PIL import Image\n",
        "import cv2\n",
        "import numpy as np\n",
        "\n",
        "st.title(\"Number Plate Detector\")\n",
        "i= st.sidebar.file_uploader(\"Choose an image:\")  #'sidebar' moves our browzer to the left side of the website page.\n",
        "\n",
        "if i is not None:    #Need to write 'if' since streamlit works in loops and until it receives the image we have uploaded, it will show an error saying no image found.\n",
        "  st.image(i, caption= 'YOUR IMAGE') #displaying image.\n",
        "  img= Image.open(i) #reading image so as to be able to use it.\n",
        "  img= np.array(img)  #since OpenCV works in numpy arrays.\n",
        "\n",
        "  if st.button('DETECT'):    #this if creates the button 'DETECT' and shows the required output only if that button is pressed.\n",
        "    model= cv2.CascadeClassifier('/content/haarcascade_russian_plate_number.xml')\n",
        "    plate= model.detectMultiScale(img, 1.1, 5)\n",
        "    count= 0\n",
        "\n",
        "    for (x,y,w,h) in plate:\n",
        "      count += 1\n",
        "      p= img[y:y+h, x:x+w]\n",
        "      st.image(p, caption= f'Number Plate {count}')\n",
        "      cv2.rectangle(img, (x,y), (x+w,y+h), (255,0,0), 5)\n",
        "      cv2.putText(img, f'Number plate {count}', (int((x+x+w)/4),y+h+30), cv2.FONT_HERSHEY_SIMPLEX, 1, (255,0,0), 2)\n",
        "\n",
        "      text= pytesseract.image_to_string(p)\n",
        "      st.text(f\"Number {count}:\")\n",
        "      st.write(text)\n",
        "    st.image(img, caption= f'Total Number Plates Detected')"
      ],
      "execution_count": null,
      "outputs": [
        {
          "output_type": "stream",
          "text": [
            "Overwriting app.py\n"
          ],
          "name": "stdout"
        }
      ]
    },
    {
      "cell_type": "code",
      "metadata": {
        "colab": {
          "base_uri": "https://localhost:8080/"
        },
        "id": "l9XB845hdpPT",
        "outputId": "3cdd8668-d90e-45cd-b070-2fd0cb9683e9"
      },
      "source": [
        "!nohup streamlit run app.py &\n",
        "url = ngrok.connect(port = '8501')\n",
        "print(url)"
      ],
      "execution_count": null,
      "outputs": [
        {
          "output_type": "stream",
          "text": [
            "nohup: appending output to 'nohup.out'\n",
            "http://bb9b8fe7aa63.ngrok.io\n"
          ],
          "name": "stdout"
        }
      ]
    },
    {
      "cell_type": "code",
      "metadata": {
        "id": "kRYIHG7iQJ3r"
      },
      "source": [
        ""
      ],
      "execution_count": null,
      "outputs": []
    }
  ]
}